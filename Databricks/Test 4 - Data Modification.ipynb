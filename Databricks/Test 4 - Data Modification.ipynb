{
 "cells": [
  {
   "cell_type": "code",
   "execution_count": 0,
   "metadata": {
    "application/vnd.databricks.v1+cell": {
     "cellMetadata": {
      "byteLimit": 2048000,
      "rowLimit": 10000
     },
     "inputWidgets": {},
     "nuid": "b568192b-d7e6-4b5d-a11d-7d2ad99e1dd4",
     "showTitle": false,
     "title": ""
    }
   },
   "outputs": [],
   "source": [
    "spark.conf.set(\n",
    "    \"fs.azure.account.key.imrdatalakedev.dfs.core.windows.net\",\"accessKey\")"
   ]
  },
  {
   "cell_type": "code",
   "execution_count": 0,
   "metadata": {
    "application/vnd.databricks.v1+cell": {
     "cellMetadata": {
      "byteLimit": 2048000,
      "rowLimit": 10000
     },
     "inputWidgets": {},
     "nuid": "1185514f-384d-4139-a4c6-b1024119d05f",
     "showTitle": false,
     "title": ""
    }
   },
   "outputs": [],
   "source": [
    "df = spark.read.format(\"csv\").option(\"header\", \"true\").load(\"abfss://bronze@imrdatalakedev.dfs.core.windows.net/Project1_Dividends/CashStatements_*.csv\")"
   ]
  },
  {
   "cell_type": "code",
   "execution_count": 0,
   "metadata": {
    "application/vnd.databricks.v1+cell": {
     "cellMetadata": {
      "byteLimit": 2048000,
      "rowLimit": 10000
     },
     "inputWidgets": {},
     "nuid": "283d0aae-773d-4c5d-b72e-6183a3296eaf",
     "showTitle": false,
     "title": ""
    }
   },
   "outputs": [
    {
     "data": {
      "text/html": [
       "<style scoped>\n",
       "  .table-result-container {\n",
       "    max-height: 300px;\n",
       "    overflow: auto;\n",
       "  }\n",
       "  table, th, td {\n",
       "    border: 1px solid black;\n",
       "    border-collapse: collapse;\n",
       "  }\n",
       "  th, td {\n",
       "    padding: 5px;\n",
       "  }\n",
       "  th {\n",
       "    text-align: left;\n",
       "  }\n",
       "</style><div class='table-result-container'><table class='table-result'><thead style='background-color: white'><tr><th>Date</th><th>Description</th><th>Reference</th><th>Settlement date</th><th>Receipt (GBP)</th><th>Payment (GBP)</th><th>Balance (GBP)</th></tr></thead><tbody><tr><td>13/09/2024</td><td>DIVIDEND 115   REALTY INCOME CORP  COM STK USD1</td><td>9867663 / 10</td><td>-</td><td>22.9</td><td>0</td><td>764.39</td></tr><tr><td>13/09/2024</td><td>Account charge for shares - Aug 2024 - ABQFPQS</td><td>-</td><td>-</td><td>0</td><td>-4.39</td><td>741.49</td></tr><tr><td>06/09/2024</td><td>Dividend 130   UNILEVER PLC  ORD GBP0.031111</td><td>9863469 / 10</td><td>-</td><td>48.04</td><td>0</td><td>745.88</td></tr><tr><td>05/09/2024</td><td>FX Charge (0.50%)</td><td>9865314 / 10</td><td>-</td><td>0</td><td>-0.11</td><td>697.84</td></tr><tr><td>01/09/2024</td><td>DIVIDEND 227   INTELCORP  COM USD0.001</td><td>9865314 / 10</td><td>-</td><td>21.55</td><td>0</td><td>697.95</td></tr><tr><td>20/08/2024</td><td>Purchase 60 Intel Corp</td><td>44624CT9TRL</td><td>21/08/2024</td><td>0</td><td>-971.75</td><td>676.40</td></tr><tr><td>19/08/2024</td><td>FX Charge (0.50%)</td><td>9861438 / 10</td><td>-</td><td>0</td><td>-0.12</td><td>1,648.15</td></tr><tr><td>15/08/2024</td><td>DIVIDEND 115   REALTY INCOME CORP  COM STK USD1</td><td>9861438 / 10</td><td>-</td><td>23.31</td><td>0</td><td>1,648.27</td></tr><tr><td>14/08/2024</td><td>Account charge for shares - Jul 2024 - ABQFPQS</td><td>-</td><td>-</td><td>0</td><td>-4.46</td><td>1,624.96</td></tr><tr><td>17/07/2024</td><td>FX Charge (0.50%)</td><td>9856158 / 10</td><td>-</td><td>0</td><td>-0.12</td><td>1,629.42</td></tr><tr><td>15/07/2024</td><td>DIVIDEND 115   REALTY INCOME CORP  COM STK USD1</td><td>9856158 / 10</td><td>-</td><td>23.26</td><td>0</td><td>1,629.54</td></tr><tr><td>12/07/2024</td><td>Account charge for shares - Jun 2024 - ABQFPQS</td><td>-</td><td>-</td><td>0</td><td>-4.42</td><td>1,606.28</td></tr><tr><td>30/06/2024</td><td>Gross interest to 30/06/24</td><td>-</td><td>-</td><td>11.98</td><td>0</td><td>1,610.70</td></tr><tr><td>20/06/2024</td><td>DIVIDEND 33   QUALCOMM INC  COM USD0.0001</td><td>9846873 / 10</td><td>-</td><td>22.13</td><td>0</td><td>1,598.72</td></tr><tr><td>18/06/2024</td><td>FX Charge (0.50%)</td><td>9852348 / 10</td><td>-</td><td>0</td><td>-0.12</td><td>1,576.59</td></tr><tr><td>14/06/2024</td><td>DIVIDEND 115   REALTY INCOME CORP  COM STK USD1</td><td>9852348 / 10</td><td>-</td><td>23.78</td><td>0</td><td>1,576.71</td></tr><tr><td>14/06/2024</td><td>Account charge for shares - May 2024 - ABQFPQS</td><td>-</td><td>-</td><td>0</td><td>-4.4</td><td>1,552.93</td></tr><tr><td>07/06/2024</td><td>Dividend 130   UNILEVER PLC  ORD GBP0.031111</td><td>9847926 / 10</td><td>-</td><td>47.76</td><td>0</td><td>1,557.33</td></tr><tr><td>01/06/2024</td><td>DIVIDEND 227   INTELCORP  COM USD0.001</td><td>9848089 / 10</td><td>-</td><td>22.2</td><td>0</td><td>1,509.57</td></tr><tr><td>17/05/2024</td><td>FX Charge (0.50%)</td><td>9852262 / 10</td><td>-</td><td>0</td><td>-0.12</td><td>1,487.37</td></tr><tr><td>15/05/2024</td><td>DIVIDEND 115   REALTY INCOME CORP  COM STK USD1</td><td>9852262 / 10</td><td>-</td><td>23.35</td><td>0</td><td>1,487.49</td></tr><tr><td>15/05/2024</td><td>Account charge for shares - Apr 2024</td><td>-</td><td>-</td><td>0</td><td>-4.21</td><td>1,464.14</td></tr><tr><td>17/04/2024</td><td>FX Charge (0.50%)</td><td>9840880 / 10</td><td>-</td><td>0</td><td>-0.12</td><td>1,468.35</td></tr><tr><td>15/04/2024</td><td>DIVIDEND 115   REALTY INCOME CORP  COM STK USD1</td><td>9840880 / 10</td><td>-</td><td>23.7</td><td>0</td><td>1,468.47</td></tr><tr><td>15/04/2024</td><td>Account charge for shares - Mar 2024</td><td>-</td><td>-</td><td>0</td><td>-4.68</td><td>1,444.77</td></tr><tr><td>31/03/2024</td><td>Gross interest to 31/03/24</td><td>-</td><td>-</td><td>10.67</td><td>0</td><td>1,449.45</td></tr><tr><td>25/03/2024</td><td>FX Charge (0.50%)</td><td>9828242 / 10</td><td>-</td><td>0</td><td>-0.11</td><td>1,438.78</td></tr><tr><td>22/03/2024</td><td>Dividend 130   UNILEVER PLC  ORD GBP0.031111</td><td>9831698 / 10</td><td>-</td><td>47.41</td><td>0</td><td>1,438.89</td></tr><tr><td>21/03/2024</td><td>DIVIDEND 33   QUALCOMM INC  COM USD0.0001</td><td>9828242 / 10</td><td>-</td><td>20.91</td><td>0</td><td>1,391.48</td></tr><tr><td>19/03/2024</td><td>FX Charge (0.50%)</td><td>9832489 / 10</td><td>-</td><td>0</td><td>-0.12</td><td>1,370.57</td></tr><tr><td>15/03/2024</td><td>DIVIDEND 115   REALTY INCOME CORP  COM STK USD1</td><td>9832489 / 10</td><td>-</td><td>23.25</td><td>0</td><td>1,370.69</td></tr><tr><td>14/03/2024</td><td>Shares Custody Charge - Feb 2024</td><td>-</td><td>-</td><td>0</td><td>-4.51</td><td>1,347.44</td></tr><tr><td>05/03/2024</td><td>FX Charge (0.50%)</td><td>9828811 / 10</td><td>-</td><td>0</td><td>-0.12</td><td>1,351.95</td></tr><tr><td>01/03/2024</td><td>DIVIDEND 227   INTELCORP  COM USD0.001</td><td>9828811 / 10</td><td>-</td><td>22.35</td><td>0</td><td>1,352.07</td></tr><tr><td>19/02/2024</td><td>FX Charge (0.50%)</td><td>9826669 / 10</td><td>-</td><td>0</td><td>-0.12</td><td>1,329.72</td></tr><tr><td>15/02/2024</td><td>DIVIDEND 115   REALTY INCOME CORP  COM STK USD1</td><td>9826669 / 10</td><td>-</td><td>23.36</td><td>0</td><td>1,329.84</td></tr><tr><td>14/02/2024</td><td>Shares Custody Charge - Jan 2024</td><td>-</td><td>-</td><td>0</td><td>-4.48</td><td>1,306.48</td></tr><tr><td>17/01/2024</td><td>FX Charge (0.50%)</td><td>9822004 / 10</td><td>-</td><td>0</td><td>-0.12</td><td>1,310.96</td></tr><tr><td>15/01/2024</td><td>Shares Custody Charge - Dec 2023</td><td>-</td><td>-</td><td>0</td><td>-4.76</td><td>1,311.08</td></tr><tr><td>12/01/2024</td><td>DIVIDEND 115   REALTY INCOME CORP  COM STK USD1</td><td>9822004 / 10</td><td>-</td><td>23.26</td><td>0</td><td>1,315.84</td></tr><tr><td>31/12/2023</td><td>Gross interest to 31/12/23</td><td>-</td><td>-</td><td>25.03</td><td>0</td><td>1,292.58</td></tr><tr><td>19/12/2023</td><td>FX Charge (0.50%)</td><td>9812531 / 1</td><td>-</td><td>0</td><td>-0.12</td><td>1,267.55</td></tr><tr><td>18/12/2023</td><td>FX Charge (0.50%)</td><td>9822843 / 1</td><td>-</td><td>0</td><td>-0.11</td><td>1,267.67</td></tr><tr><td>15/12/2023</td><td>DIVIDEND 115   REALTY INCOME CORP  COM STK USD1</td><td>9812531 / 1</td><td>-</td><td>23.18</td><td>0</td><td>1,267.78</td></tr><tr><td>14/12/2023</td><td>DIVIDEND 33   QUALCOMM INC  COM USD0.0001</td><td>9822843 / 1</td><td>-</td><td>20.8</td><td>0</td><td>1,244.60</td></tr><tr><td>14/12/2023</td><td>Shares Custody Charge - Nov 2023</td><td>-</td><td>-</td><td>0</td><td>-4.42</td><td>1,223.80</td></tr><tr><td>08/12/2023</td><td>Dividend 130   UNILEVER PLC  ORD GBP0.031111</td><td>9814109 / 1</td><td>-</td><td>48.29</td><td>0</td><td>1,228.22</td></tr><tr><td>05/12/2023</td><td>FX Charge (0.50%)</td><td>9809913 / 1</td><td>-</td><td>0</td><td>-0.12</td><td>1,179.93</td></tr><tr><td>01/12/2023</td><td>DIVIDEND 227   INTELCORP  COM USD0.001</td><td>9809913 / 1</td><td>-</td><td>22.49</td><td>0</td><td>1,180.05</td></tr><tr><td>15/11/2023</td><td>DIVIDEND 115   REALTY INCOME CORP  COM STK USD1</td><td>9807866 / 1</td><td>-</td><td>23.75</td><td>0</td><td>1,157.56</td></tr><tr><td>14/11/2023</td><td>Shares Custody Charge - Oct 2023</td><td>-</td><td>-</td><td>0</td><td>-4.03</td><td>1,133.81</td></tr><tr><td>27/10/2023</td><td>Purchase 130 Unilever PLC</td><td>44623CC9MT6</td><td>31/10/2023</td><td>0</td><td>-5048.38</td><td>1,137.84</td></tr><tr><td>25/10/2023</td><td>Purchase 22 Qualcomm Inc</td><td>44623CC75R7</td><td>27/10/2023</td><td>0</td><td>-1929.74</td><td>6,186.22</td></tr><tr><td>13/10/2023</td><td>DIVIDEND 115   REALTY INCOME CORP  COM STK USD1</td><td>9803138 / 1</td><td>-</td><td>24.14</td><td>0</td><td>8,115.96</td></tr><tr><td>13/10/2023</td><td>Shares Custody Charge - Sep 2023</td><td>-</td><td>-</td><td>0</td><td>-2.57</td><td>8,091.82</td></tr><tr><td>30/09/2023</td><td>Gross interest to 30/09/23</td><td>-</td><td>-</td><td>64.94</td><td>0</td><td>8,094.39</td></tr><tr><td>25/09/2023</td><td>FX Charge (0.50%)</td><td>9804674 / 1</td><td>-</td><td>0</td><td>-0.04</td><td>8,029.45</td></tr><tr><td>25/09/2023</td><td>* BALANCE B/F *</td><td>-</td><td>-</td><td>8029.49</td><td>0</td><td>8,029.49</td></tr></tbody></table></div>"
      ]
     },
     "metadata": {
      "application/vnd.databricks.v1+output": {
       "addedWidgets": {},
       "aggData": [],
       "aggError": "",
       "aggOverflow": false,
       "aggSchema": [],
       "aggSeriesLimitReached": false,
       "aggType": "",
       "arguments": {},
       "columnCustomDisplayInfos": {},
       "data": [
        [
         "13/09/2024",
         "DIVIDEND 115   REALTY INCOME CORP  COM STK USD1",
         "9867663 / 10",
         "-",
         "22.9",
         "0",
         "764.39"
        ],
        [
         "13/09/2024",
         "Account charge for shares - Aug 2024 - ABQFPQS",
         "-",
         "-",
         "0",
         "-4.39",
         "741.49"
        ],
        [
         "06/09/2024",
         "Dividend 130   UNILEVER PLC  ORD GBP0.031111",
         "9863469 / 10",
         "-",
         "48.04",
         "0",
         "745.88"
        ],
        [
         "05/09/2024",
         "FX Charge (0.50%)",
         "9865314 / 10",
         "-",
         "0",
         "-0.11",
         "697.84"
        ],
        [
         "01/09/2024",
         "DIVIDEND 227   INTELCORP  COM USD0.001",
         "9865314 / 10",
         "-",
         "21.55",
         "0",
         "697.95"
        ],
        [
         "20/08/2024",
         "Purchase 60 Intel Corp",
         "44624CT9TRL",
         "21/08/2024",
         "0",
         "-971.75",
         "676.40"
        ],
        [
         "19/08/2024",
         "FX Charge (0.50%)",
         "9861438 / 10",
         "-",
         "0",
         "-0.12",
         "1,648.15"
        ],
        [
         "15/08/2024",
         "DIVIDEND 115   REALTY INCOME CORP  COM STK USD1",
         "9861438 / 10",
         "-",
         "23.31",
         "0",
         "1,648.27"
        ],
        [
         "14/08/2024",
         "Account charge for shares - Jul 2024 - ABQFPQS",
         "-",
         "-",
         "0",
         "-4.46",
         "1,624.96"
        ],
        [
         "17/07/2024",
         "FX Charge (0.50%)",
         "9856158 / 10",
         "-",
         "0",
         "-0.12",
         "1,629.42"
        ],
        [
         "15/07/2024",
         "DIVIDEND 115   REALTY INCOME CORP  COM STK USD1",
         "9856158 / 10",
         "-",
         "23.26",
         "0",
         "1,629.54"
        ],
        [
         "12/07/2024",
         "Account charge for shares - Jun 2024 - ABQFPQS",
         "-",
         "-",
         "0",
         "-4.42",
         "1,606.28"
        ],
        [
         "30/06/2024",
         "Gross interest to 30/06/24",
         "-",
         "-",
         "11.98",
         "0",
         "1,610.70"
        ],
        [
         "20/06/2024",
         "DIVIDEND 33   QUALCOMM INC  COM USD0.0001",
         "9846873 / 10",
         "-",
         "22.13",
         "0",
         "1,598.72"
        ],
        [
         "18/06/2024",
         "FX Charge (0.50%)",
         "9852348 / 10",
         "-",
         "0",
         "-0.12",
         "1,576.59"
        ],
        [
         "14/06/2024",
         "DIVIDEND 115   REALTY INCOME CORP  COM STK USD1",
         "9852348 / 10",
         "-",
         "23.78",
         "0",
         "1,576.71"
        ],
        [
         "14/06/2024",
         "Account charge for shares - May 2024 - ABQFPQS",
         "-",
         "-",
         "0",
         "-4.4",
         "1,552.93"
        ],
        [
         "07/06/2024",
         "Dividend 130   UNILEVER PLC  ORD GBP0.031111",
         "9847926 / 10",
         "-",
         "47.76",
         "0",
         "1,557.33"
        ],
        [
         "01/06/2024",
         "DIVIDEND 227   INTELCORP  COM USD0.001",
         "9848089 / 10",
         "-",
         "22.2",
         "0",
         "1,509.57"
        ],
        [
         "17/05/2024",
         "FX Charge (0.50%)",
         "9852262 / 10",
         "-",
         "0",
         "-0.12",
         "1,487.37"
        ],
        [
         "15/05/2024",
         "DIVIDEND 115   REALTY INCOME CORP  COM STK USD1",
         "9852262 / 10",
         "-",
         "23.35",
         "0",
         "1,487.49"
        ],
        [
         "15/05/2024",
         "Account charge for shares - Apr 2024",
         "-",
         "-",
         "0",
         "-4.21",
         "1,464.14"
        ],
        [
         "17/04/2024",
         "FX Charge (0.50%)",
         "9840880 / 10",
         "-",
         "0",
         "-0.12",
         "1,468.35"
        ],
        [
         "15/04/2024",
         "DIVIDEND 115   REALTY INCOME CORP  COM STK USD1",
         "9840880 / 10",
         "-",
         "23.7",
         "0",
         "1,468.47"
        ],
        [
         "15/04/2024",
         "Account charge for shares - Mar 2024",
         "-",
         "-",
         "0",
         "-4.68",
         "1,444.77"
        ],
        [
         "31/03/2024",
         "Gross interest to 31/03/24",
         "-",
         "-",
         "10.67",
         "0",
         "1,449.45"
        ],
        [
         "25/03/2024",
         "FX Charge (0.50%)",
         "9828242 / 10",
         "-",
         "0",
         "-0.11",
         "1,438.78"
        ],
        [
         "22/03/2024",
         "Dividend 130   UNILEVER PLC  ORD GBP0.031111",
         "9831698 / 10",
         "-",
         "47.41",
         "0",
         "1,438.89"
        ],
        [
         "21/03/2024",
         "DIVIDEND 33   QUALCOMM INC  COM USD0.0001",
         "9828242 / 10",
         "-",
         "20.91",
         "0",
         "1,391.48"
        ],
        [
         "19/03/2024",
         "FX Charge (0.50%)",
         "9832489 / 10",
         "-",
         "0",
         "-0.12",
         "1,370.57"
        ],
        [
         "15/03/2024",
         "DIVIDEND 115   REALTY INCOME CORP  COM STK USD1",
         "9832489 / 10",
         "-",
         "23.25",
         "0",
         "1,370.69"
        ],
        [
         "14/03/2024",
         "Shares Custody Charge - Feb 2024",
         "-",
         "-",
         "0",
         "-4.51",
         "1,347.44"
        ],
        [
         "05/03/2024",
         "FX Charge (0.50%)",
         "9828811 / 10",
         "-",
         "0",
         "-0.12",
         "1,351.95"
        ],
        [
         "01/03/2024",
         "DIVIDEND 227   INTELCORP  COM USD0.001",
         "9828811 / 10",
         "-",
         "22.35",
         "0",
         "1,352.07"
        ],
        [
         "19/02/2024",
         "FX Charge (0.50%)",
         "9826669 / 10",
         "-",
         "0",
         "-0.12",
         "1,329.72"
        ],
        [
         "15/02/2024",
         "DIVIDEND 115   REALTY INCOME CORP  COM STK USD1",
         "9826669 / 10",
         "-",
         "23.36",
         "0",
         "1,329.84"
        ],
        [
         "14/02/2024",
         "Shares Custody Charge - Jan 2024",
         "-",
         "-",
         "0",
         "-4.48",
         "1,306.48"
        ],
        [
         "17/01/2024",
         "FX Charge (0.50%)",
         "9822004 / 10",
         "-",
         "0",
         "-0.12",
         "1,310.96"
        ],
        [
         "15/01/2024",
         "Shares Custody Charge - Dec 2023",
         "-",
         "-",
         "0",
         "-4.76",
         "1,311.08"
        ],
        [
         "12/01/2024",
         "DIVIDEND 115   REALTY INCOME CORP  COM STK USD1",
         "9822004 / 10",
         "-",
         "23.26",
         "0",
         "1,315.84"
        ],
        [
         "31/12/2023",
         "Gross interest to 31/12/23",
         "-",
         "-",
         "25.03",
         "0",
         "1,292.58"
        ],
        [
         "19/12/2023",
         "FX Charge (0.50%)",
         "9812531 / 1",
         "-",
         "0",
         "-0.12",
         "1,267.55"
        ],
        [
         "18/12/2023",
         "FX Charge (0.50%)",
         "9822843 / 1",
         "-",
         "0",
         "-0.11",
         "1,267.67"
        ],
        [
         "15/12/2023",
         "DIVIDEND 115   REALTY INCOME CORP  COM STK USD1",
         "9812531 / 1",
         "-",
         "23.18",
         "0",
         "1,267.78"
        ],
        [
         "14/12/2023",
         "DIVIDEND 33   QUALCOMM INC  COM USD0.0001",
         "9822843 / 1",
         "-",
         "20.8",
         "0",
         "1,244.60"
        ],
        [
         "14/12/2023",
         "Shares Custody Charge - Nov 2023",
         "-",
         "-",
         "0",
         "-4.42",
         "1,223.80"
        ],
        [
         "08/12/2023",
         "Dividend 130   UNILEVER PLC  ORD GBP0.031111",
         "9814109 / 1",
         "-",
         "48.29",
         "0",
         "1,228.22"
        ],
        [
         "05/12/2023",
         "FX Charge (0.50%)",
         "9809913 / 1",
         "-",
         "0",
         "-0.12",
         "1,179.93"
        ],
        [
         "01/12/2023",
         "DIVIDEND 227   INTELCORP  COM USD0.001",
         "9809913 / 1",
         "-",
         "22.49",
         "0",
         "1,180.05"
        ],
        [
         "15/11/2023",
         "DIVIDEND 115   REALTY INCOME CORP  COM STK USD1",
         "9807866 / 1",
         "-",
         "23.75",
         "0",
         "1,157.56"
        ],
        [
         "14/11/2023",
         "Shares Custody Charge - Oct 2023",
         "-",
         "-",
         "0",
         "-4.03",
         "1,133.81"
        ],
        [
         "27/10/2023",
         "Purchase 130 Unilever PLC",
         "44623CC9MT6",
         "31/10/2023",
         "0",
         "-5048.38",
         "1,137.84"
        ],
        [
         "25/10/2023",
         "Purchase 22 Qualcomm Inc",
         "44623CC75R7",
         "27/10/2023",
         "0",
         "-1929.74",
         "6,186.22"
        ],
        [
         "13/10/2023",
         "DIVIDEND 115   REALTY INCOME CORP  COM STK USD1",
         "9803138 / 1",
         "-",
         "24.14",
         "0",
         "8,115.96"
        ],
        [
         "13/10/2023",
         "Shares Custody Charge - Sep 2023",
         "-",
         "-",
         "0",
         "-2.57",
         "8,091.82"
        ],
        [
         "30/09/2023",
         "Gross interest to 30/09/23",
         "-",
         "-",
         "64.94",
         "0",
         "8,094.39"
        ],
        [
         "25/09/2023",
         "FX Charge (0.50%)",
         "9804674 / 1",
         "-",
         "0",
         "-0.04",
         "8,029.45"
        ],
        [
         "25/09/2023",
         "* BALANCE B/F *",
         "-",
         "-",
         "8029.49",
         "0",
         "8,029.49"
        ]
       ],
       "datasetInfos": [],
       "dbfsResultPath": null,
       "isJsonSchema": true,
       "metadata": {},
       "overflow": false,
       "plotOptions": {
        "customPlotOptions": {},
        "displayType": "table",
        "pivotAggregation": null,
        "pivotColumns": null,
        "xColumns": null,
        "yColumns": null
       },
       "removedWidgets": [],
       "schema": [
        {
         "metadata": "{}",
         "name": "Date",
         "type": "\"string\""
        },
        {
         "metadata": "{}",
         "name": "Description",
         "type": "\"string\""
        },
        {
         "metadata": "{}",
         "name": "Reference",
         "type": "\"string\""
        },
        {
         "metadata": "{}",
         "name": "Settlement date",
         "type": "\"string\""
        },
        {
         "metadata": "{}",
         "name": "Receipt (GBP)",
         "type": "\"string\""
        },
        {
         "metadata": "{}",
         "name": "Payment (GBP)",
         "type": "\"string\""
        },
        {
         "metadata": "{}",
         "name": "Balance (GBP)",
         "type": "\"string\""
        }
       ],
       "type": "table"
      }
     },
     "output_type": "display_data"
    }
   ],
   "source": [
    "display(df)"
   ]
  },
  {
   "cell_type": "code",
   "execution_count": 0,
   "metadata": {
    "application/vnd.databricks.v1+cell": {
     "cellMetadata": {
      "byteLimit": 2048000,
      "rowLimit": 10000
     },
     "inputWidgets": {},
     "nuid": "b91773d5-b1dc-492a-a943-5bcb234062a0",
     "showTitle": false,
     "title": ""
    }
   },
   "outputs": [],
   "source": [
    "df.createOrReplaceTempView(\"myData\")"
   ]
  },
  {
   "cell_type": "code",
   "execution_count": 0,
   "metadata": {
    "application/vnd.databricks.v1+cell": {
     "cellMetadata": {
      "byteLimit": 2048000,
      "implicitDf": true,
      "rowLimit": 10000
     },
     "inputWidgets": {},
     "nuid": "2f7d53cc-6e1f-47c3-a713-1e9a22d2d060",
     "showTitle": false,
     "title": ""
    }
   },
   "outputs": [
    {
     "data": {
      "text/html": [
       "<style scoped>\n",
       "  .table-result-container {\n",
       "    max-height: 300px;\n",
       "    overflow: auto;\n",
       "  }\n",
       "  table, th, td {\n",
       "    border: 1px solid black;\n",
       "    border-collapse: collapse;\n",
       "  }\n",
       "  th, td {\n",
       "    padding: 5px;\n",
       "  }\n",
       "  th {\n",
       "    text-align: left;\n",
       "  }\n",
       "</style><div class='table-result-container'><table class='table-result'><thead style='background-color: white'><tr><th>count(1)</th></tr></thead><tbody><tr><td>19</td></tr></tbody></table></div>"
      ]
     },
     "metadata": {
      "application/vnd.databricks.v1+output": {
       "addedWidgets": {},
       "aggData": [],
       "aggError": "",
       "aggOverflow": false,
       "aggSchema": [],
       "aggSeriesLimitReached": false,
       "aggType": "",
       "arguments": {},
       "columnCustomDisplayInfos": {},
       "data": [
        [
         19
        ]
       ],
       "datasetInfos": [],
       "dbfsResultPath": null,
       "isJsonSchema": true,
       "metadata": {
        "dataframeName": "_sqldf",
        "executionCount": 34
       },
       "overflow": false,
       "plotOptions": {
        "customPlotOptions": {},
        "displayType": "table",
        "pivotAggregation": null,
        "pivotColumns": null,
        "xColumns": null,
        "yColumns": null
       },
       "removedWidgets": [],
       "schema": [
        {
         "metadata": "{\"__autoGeneratedAlias\":\"true\"}",
         "name": "count(1)",
         "type": "\"long\""
        }
       ],
       "type": "table"
      }
     },
     "output_type": "display_data"
    }
   ],
   "source": [
    "%sql\n",
    "\n",
    "SELECT\n",
    "  COUNT(*)\n",
    "FROM \n",
    "  myData\n",
    "  WHERE \n",
    "  Description LIKE '%DIVIDEND%' "
   ]
  },
  {
   "cell_type": "code",
   "execution_count": 0,
   "metadata": {
    "application/vnd.databricks.v1+cell": {
     "cellMetadata": {
      "byteLimit": 2048000,
      "implicitDf": true,
      "rowLimit": 10000
     },
     "inputWidgets": {},
     "nuid": "9fd81df6-76d6-4a57-ba49-5fd651b2cb14",
     "showTitle": false,
     "title": ""
    }
   },
   "outputs": [
    {
     "data": {
      "text/html": [
       "<style scoped>\n",
       "  .table-result-container {\n",
       "    max-height: 300px;\n",
       "    overflow: auto;\n",
       "  }\n",
       "  table, th, td {\n",
       "    border: 1px solid black;\n",
       "    border-collapse: collapse;\n",
       "  }\n",
       "  th, td {\n",
       "    padding: 5px;\n",
       "  }\n",
       "  th {\n",
       "    text-align: left;\n",
       "  }\n",
       "</style><div class='table-result-container'><table class='table-result'><thead style='background-color: white'><tr><th>PaymentDate</th><th>AmountPaid</th><th>StockUnits</th><th>CompanyName</th></tr></thead><tbody><tr><td>13/Sep/2024</td><td>22.90</td><td>115</td><td>Realty Income Corp </td></tr><tr><td>01/Sep/2024</td><td>21.55</td><td>227</td><td>Intelcorp </td></tr><tr><td>15/Aug/2024</td><td>23.31</td><td>115</td><td>Realty Income Corp </td></tr><tr><td>15/Jul/2024</td><td>23.26</td><td>115</td><td>Realty Income Corp </td></tr><tr><td>20/Jun/2024</td><td>22.13</td><td>33</td><td>Qualcomm Inc </td></tr><tr><td>14/Jun/2024</td><td>23.78</td><td>115</td><td>Realty Income Corp </td></tr><tr><td>01/Jun/2024</td><td>22.20</td><td>227</td><td>Intelcorp </td></tr><tr><td>15/May/2024</td><td>23.35</td><td>115</td><td>Realty Income Corp </td></tr><tr><td>15/Apr/2024</td><td>23.70</td><td>115</td><td>Realty Income Corp </td></tr><tr><td>21/Mar/2024</td><td>20.91</td><td>33</td><td>Qualcomm Inc </td></tr><tr><td>15/Mar/2024</td><td>23.25</td><td>115</td><td>Realty Income Corp </td></tr><tr><td>01/Mar/2024</td><td>22.35</td><td>227</td><td>Intelcorp </td></tr><tr><td>15/Feb/2024</td><td>23.36</td><td>115</td><td>Realty Income Corp </td></tr><tr><td>12/Jan/2024</td><td>23.26</td><td>115</td><td>Realty Income Corp </td></tr><tr><td>15/Dec/2023</td><td>23.18</td><td>115</td><td>Realty Income Corp </td></tr><tr><td>14/Dec/2023</td><td>20.80</td><td>33</td><td>Qualcomm Inc </td></tr><tr><td>01/Dec/2023</td><td>22.49</td><td>227</td><td>Intelcorp </td></tr><tr><td>15/Nov/2023</td><td>23.75</td><td>115</td><td>Realty Income Corp </td></tr><tr><td>13/Oct/2023</td><td>24.14</td><td>115</td><td>Realty Income Corp </td></tr></tbody></table></div>"
      ]
     },
     "metadata": {
      "application/vnd.databricks.v1+output": {
       "addedWidgets": {},
       "aggData": [],
       "aggError": "",
       "aggOverflow": false,
       "aggSchema": [],
       "aggSeriesLimitReached": false,
       "aggType": "",
       "arguments": {},
       "columnCustomDisplayInfos": {},
       "data": [
        [
         "13/Sep/2024",
         "22.90",
         115,
         "Realty Income Corp "
        ],
        [
         "01/Sep/2024",
         "21.55",
         227,
         "Intelcorp "
        ],
        [
         "15/Aug/2024",
         "23.31",
         115,
         "Realty Income Corp "
        ],
        [
         "15/Jul/2024",
         "23.26",
         115,
         "Realty Income Corp "
        ],
        [
         "20/Jun/2024",
         "22.13",
         33,
         "Qualcomm Inc "
        ],
        [
         "14/Jun/2024",
         "23.78",
         115,
         "Realty Income Corp "
        ],
        [
         "01/Jun/2024",
         "22.20",
         227,
         "Intelcorp "
        ],
        [
         "15/May/2024",
         "23.35",
         115,
         "Realty Income Corp "
        ],
        [
         "15/Apr/2024",
         "23.70",
         115,
         "Realty Income Corp "
        ],
        [
         "21/Mar/2024",
         "20.91",
         33,
         "Qualcomm Inc "
        ],
        [
         "15/Mar/2024",
         "23.25",
         115,
         "Realty Income Corp "
        ],
        [
         "01/Mar/2024",
         "22.35",
         227,
         "Intelcorp "
        ],
        [
         "15/Feb/2024",
         "23.36",
         115,
         "Realty Income Corp "
        ],
        [
         "12/Jan/2024",
         "23.26",
         115,
         "Realty Income Corp "
        ],
        [
         "15/Dec/2023",
         "23.18",
         115,
         "Realty Income Corp "
        ],
        [
         "14/Dec/2023",
         "20.80",
         33,
         "Qualcomm Inc "
        ],
        [
         "01/Dec/2023",
         "22.49",
         227,
         "Intelcorp "
        ],
        [
         "15/Nov/2023",
         "23.75",
         115,
         "Realty Income Corp "
        ],
        [
         "13/Oct/2023",
         "24.14",
         115,
         "Realty Income Corp "
        ]
       ],
       "datasetInfos": [],
       "dbfsResultPath": null,
       "isJsonSchema": true,
       "metadata": {
        "dataframeName": "_sqldf",
        "executionCount": 49
       },
       "overflow": false,
       "plotOptions": {
        "customPlotOptions": {},
        "displayType": "table",
        "pivotAggregation": null,
        "pivotColumns": null,
        "xColumns": null,
        "yColumns": null
       },
       "removedWidgets": [],
       "schema": [
        {
         "metadata": "{}",
         "name": "PaymentDate",
         "type": "\"string\""
        },
        {
         "metadata": "{}",
         "name": "AmountPaid",
         "type": "\"decimal(10,2)\""
        },
        {
         "metadata": "{}",
         "name": "StockUnits",
         "type": "\"integer\""
        },
        {
         "metadata": "{}",
         "name": "CompanyName",
         "type": "\"string\""
        }
       ],
       "type": "table"
      }
     },
     "output_type": "display_data"
    }
   ],
   "source": [
    "%sql\n",
    "SELECT \n",
    "    date_format(to_date(Date, 'dd/MM/yyyy'), 'dd/MMM/yyyy')                     AS PaymentDate,\n",
    "    --Description                                               AS StockInstrument,\n",
    "    --`Receipt (GBP)`                   AS AmountPaid\n",
    "    CAST(`Receipt (GBP)`  AS DECIMAL(10, 2))                                    AS AmountPaid,\n",
    "    CAST(SUBSTRING_INDEX(SUBSTRING_INDEX(Description, ' ', 2), ' ', -1) AS INT) AS StockUnits,\n",
    "    INITCAP(regexp_extract(Description, '\\\\d+\\\\s+([A-Z\\\\s]+)\\\\s+COM', 1) )      AS CompanyName\n",
    "FROM\n",
    "  myData\n",
    "WHERE \n",
    "  Description LIKE '%DIVIDEND%' \n"
   ]
  },
  {
   "cell_type": "code",
   "execution_count": 0,
   "metadata": {
    "application/vnd.databricks.v1+cell": {
     "cellMetadata": {
      "byteLimit": 2048000,
      "rowLimit": 10000
     },
     "inputWidgets": {},
     "nuid": "2d933bc8-d589-4510-8145-afde6b63e3a6",
     "showTitle": false,
     "title": ""
    }
   },
   "outputs": [],
   "source": [
    "_sqldf \\\n",
    "    .write \\\n",
    "    .format(\"delta\") \\\n",
    "        .save(\"abfss://silver@imrdatalakedev.dfs.core.windows.net/Project1_Dividends/DividendStatement\")"
   ]
  }
 ],
 "metadata": {
  "application/vnd.databricks.v1+notebook": {
   "dashboards": [],
   "environmentMetadata": null,
   "language": "python",
   "notebookMetadata": {
    "mostRecentlyExecutedCommandWithImplicitDF": {
     "commandId": 3420680205564643,
     "dataframes": [
      "_sqldf"
     ]
    },
    "pythonIndentUnit": 4
   },
   "notebookName": "Test 4 - Data Modification",
   "widgets": {}
  },
  "language_info": {
   "name": "python"
  }
 },
 "nbformat": 4,
 "nbformat_minor": 0
}
